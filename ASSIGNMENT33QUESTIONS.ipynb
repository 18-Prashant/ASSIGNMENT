{
 "cells": [
  {
   "cell_type": "code",
   "execution_count": 1,
   "id": "8661c45c",
   "metadata": {},
   "outputs": [
    {
     "name": "stdin",
     "output_type": "stream",
     "text": [
      "Enter the number to square root :  25\n"
     ]
    },
    {
     "name": "stdout",
     "output_type": "stream",
     "text": [
      "5.0\n"
     ]
    }
   ],
   "source": [
    "#1.Python Program to Find the Square Root.\n",
    "a=int(input(\"Enter the number to square root : \"))\n",
    "b=a**0.5\n",
    "print(b)"
   ]
  },
  {
   "cell_type": "code",
   "execution_count": 2,
   "id": "5422598f",
   "metadata": {},
   "outputs": [
    {
     "name": "stdin",
     "output_type": "stream",
     "text": [
      "Enter the base of triangle : :  9\n",
      "Enter the height of triangle :  5\n"
     ]
    },
    {
     "name": "stdout",
     "output_type": "stream",
     "text": [
      "22.5\n"
     ]
    }
   ],
   "source": [
    "# 2.Python Program to Calculate the Area of a Triangle\n",
    "b=int(input(\"Enter the base of triangle : : \"))\n",
    "h=int(input(\"Enter the height of triangle : \"))\n",
    "a=1/2*b*h\n",
    "print(a)"
   ]
  },
  {
   "cell_type": "code",
   "execution_count": 3,
   "id": "3d1ed93f",
   "metadata": {},
   "outputs": [
    {
     "name": "stdin",
     "output_type": "stream",
     "text": [
      "Enter the number for a :  9\n",
      "Enter the number for b :  8\n"
     ]
    },
    {
     "name": "stdout",
     "output_type": "stream",
     "text": [
      "a : 8 b : 9\n"
     ]
    }
   ],
   "source": [
    "#3.Python Program to Swap Two Variables\n",
    "a=int(input(\"Enter the number for a : \"))\n",
    "b=int(input(\"Enter the number for b : \"))\n",
    "c=b\n",
    "b=a\n",
    "a=c\n",
    "print(\"a :\",a,\"b :\",b)"
   ]
  },
  {
   "cell_type": "code",
   "execution_count": 4,
   "id": "3b39861d",
   "metadata": {},
   "outputs": [
    {
     "name": "stdin",
     "output_type": "stream",
     "text": [
      "Enter the Kilometers to Convert in Miles :  9\n"
     ]
    },
    {
     "name": "stdout",
     "output_type": "stream",
     "text": [
      "5.592339\n"
     ]
    }
   ],
   "source": [
    "#4.Python Program to Convert Kilometers to Miles .\n",
    "a=int(input(\"Enter the Kilometers to Convert in Miles : \"))\n",
    "b=a*0.621371\n",
    "print(b)"
   ]
  },
  {
   "cell_type": "code",
   "execution_count": 5,
   "id": "1fcf693e",
   "metadata": {},
   "outputs": [
    {
     "name": "stdin",
     "output_type": "stream",
     "text": [
      "Enter the Celsius to Convert in Fahrenheit :  38\n"
     ]
    },
    {
     "name": "stdout",
     "output_type": "stream",
     "text": [
      "100.4\n"
     ]
    }
   ],
   "source": [
    "#5.Python Program to Convert Celsius To Fahrenheit .\n",
    "a=int(input(\"Enter the Celsius to Convert in Fahrenheit : \"))\n",
    "b=(a*9/5)+32\n",
    "print(b)"
   ]
  },
  {
   "cell_type": "code",
   "execution_count": 6,
   "id": "9ec7d5e1",
   "metadata": {},
   "outputs": [
    {
     "name": "stdin",
     "output_type": "stream",
     "text": [
      "Enter the number to check number positive , negative or o :  9\n"
     ]
    },
    {
     "name": "stdout",
     "output_type": "stream",
     "text": [
      "9 NUMBER IS POSITIVE\n"
     ]
    }
   ],
   "source": [
    "#6.Python Program to Check if a Number is Positive, Negative or 0\n",
    "a=int(input(\"Enter the number to check number positive , negative or o : \"))\n",
    "if(a>0):\n",
    "    print(a,\"NUMBER IS POSITIVE\")\n",
    "elif(a<0):\n",
    "    print(a,\"NUMBER IS NEGATIVE\")\n",
    "else:\n",
    "    print(a,\"NUMBER IS ZERO\")"
   ]
  },
  {
   "cell_type": "code",
   "execution_count": 7,
   "id": "4921f8f2",
   "metadata": {},
   "outputs": [
    {
     "name": "stdin",
     "output_type": "stream",
     "text": [
      "Enter the number to check number is even or odd :  9\n"
     ]
    },
    {
     "name": "stdout",
     "output_type": "stream",
     "text": [
      "9 IS ODD NUMBER\n"
     ]
    }
   ],
   "source": [
    "#7.Python Program to Check if a Number is Odd or Even.\n",
    "a=int(input(\"Enter the number to check number is even or odd : \"))\n",
    "if(a%2==0):\n",
    "    print(a,\"IS EVEN NUMBER\")\n",
    "else:\n",
    "    print(a,\"IS ODD NUMBER\")"
   ]
  },
  {
   "cell_type": "code",
   "execution_count": 8,
   "id": "83638b3e",
   "metadata": {},
   "outputs": [
    {
     "name": "stdin",
     "output_type": "stream",
     "text": [
      "Enter the 1st number :  9\n",
      "Enter the 2nd number :  8\n",
      "Enter the 3rd number :  7\n"
     ]
    },
    {
     "name": "stdout",
     "output_type": "stream",
     "text": [
      "9 IS THE LARGEST \n"
     ]
    }
   ],
   "source": [
    "#8.Python Program to Find the Largest Among Three Numbers.\n",
    "a=int(input(\"Enter the 1st number : \"))\n",
    "b=int(input(\"Enter the 2nd number : \"))\n",
    "c=int(input(\"Enter the 3rd number : \"))\n",
    "if(a>b and a>c):\n",
    "    print(a,\"IS THE LARGEST \")\n",
    "elif(b>a and b>c):\n",
    "    print(b,\"IS THE LARGEST \")\n",
    "else:\n",
    "    print(c,\"IS THE LARGEST \")"
   ]
  },
  {
   "cell_type": "code",
   "execution_count": 9,
   "id": "4a350b1f",
   "metadata": {
    "scrolled": true
   },
   "outputs": [
    {
     "name": "stdin",
     "output_type": "stream",
     "text": [
      "ENTER THE RANGE TO GET THE PRIME NUMBERS :  9\n"
     ]
    },
    {
     "name": "stdout",
     "output_type": "stream",
     "text": [
      "2  is a prime\n",
      "3  is a prime\n",
      "4 not a prime\n",
      "5  is a prime\n",
      "6 not a prime\n",
      "7  is a prime\n",
      "8 not a prime\n",
      "9 not a prime\n"
     ]
    }
   ],
   "source": [
    "#9.Python Program to Check Prime Number.\n",
    "a=int(input(\"ENTER THE RANGE TO GET THE PRIME NUMBERS : \"))\n",
    "if a<2:\n",
    "    print(\"PLEASE ENTER VALID RANGE\")\n",
    "else:\n",
    "    for i in range(2,a+1):\n",
    "        #is_prime=True\n",
    "        for j in range(2,int(i**0.5)+1):\n",
    "            if(i%j==0):\n",
    "                print(i,\"not a prime\")\n",
    "                break\n",
    "        else:\n",
    "            print(i,\" is a prime\")    "
   ]
  },
  {
   "cell_type": "code",
   "execution_count": 10,
   "id": "4d34054d",
   "metadata": {},
   "outputs": [
    {
     "name": "stdin",
     "output_type": "stream",
     "text": [
      "ENTER THE RANGE TO GET THE PRIME NUMBERS :  9\n"
     ]
    },
    {
     "name": "stdout",
     "output_type": "stream",
     "text": [
      "2  is a prime\n",
      "3  is a prime\n",
      "4 not a prime\n",
      "5  is a prime\n",
      "6 not a prime\n",
      "7  is a prime\n",
      "8 not a prime\n",
      "9 not a prime\n"
     ]
    }
   ],
   "source": [
    "####10.Python Program to Print all Prime Numbers in an Interval. ####\n",
    "a=int(input(\"ENTER THE RANGE TO GET THE PRIME NUMBERS : \"))\n",
    "if a<2:\n",
    "    print(\"PLEASE ENTER VALID RANGE\")\n",
    "else:\n",
    "    for i in range(2,a+1):\n",
    "        for j in range(2,int(i**0.5)+1):\n",
    "            if(i%j==0):\n",
    "                print(i,\"not a prime\")\n",
    "                break\n",
    "        else:\n",
    "            print(i,\" is a prime\")"
   ]
  },
  {
   "cell_type": "code",
   "execution_count": 11,
   "id": "e9b68e0e-fc87-483b-8faa-428c38c4aa97",
   "metadata": {},
   "outputs": [
    {
     "name": "stdin",
     "output_type": "stream",
     "text": [
      "enter your number for factorial :  9\n"
     ]
    },
    {
     "name": "stdout",
     "output_type": "stream",
     "text": [
      "362880\n"
     ]
    }
   ],
   "source": [
    "#11.Python Program to Find the Factorial of a Number.\n",
    "a=int(input(\"enter your number for factorial : \"))\n",
    "fact=1\n",
    "if a>0:\n",
    "    for i in range(1,a+1):\n",
    "        fact*=i\n",
    "    print(fact)"
   ]
  },
  {
   "cell_type": "code",
   "execution_count": 12,
   "id": "b8e74fbc-5cab-4b99-b71f-f99c56fa4aa5",
   "metadata": {},
   "outputs": [
    {
     "name": "stdin",
     "output_type": "stream",
     "text": [
      "enter the number of which you want table :  9\n"
     ]
    },
    {
     "name": "stdout",
     "output_type": "stream",
     "text": [
      "9 x 1 = 9\n",
      "9 x 2 = 18\n",
      "9 x 3 = 27\n",
      "9 x 4 = 36\n",
      "9 x 5 = 45\n",
      "9 x 6 = 54\n",
      "9 x 7 = 63\n",
      "9 x 8 = 72\n",
      "9 x 9 = 81\n",
      "9 x 10 = 90\n"
     ]
    }
   ],
   "source": [
    "#12.Python Program to Display the multiplication Table Code.\n",
    "a=int(input(\"enter the number of which you want table : \"))\n",
    "for i in range(1,11):\n",
    "    print(a,\"x\",i,\"=\",a*i)"
   ]
  },
  {
   "cell_type": "code",
   "execution_count": 13,
   "id": "a11a9577-67d3-45eb-9304-9ea61e28ee21",
   "metadata": {},
   "outputs": [
    {
     "name": "stdin",
     "output_type": "stream",
     "text": [
      "Enter number to check armstrong or not :  153\n"
     ]
    },
    {
     "name": "stdout",
     "output_type": "stream",
     "text": [
      "153 number is armstrong number\n"
     ]
    }
   ],
   "source": [
    "#13.Python Program to Check Armstrong Number.\n",
    "a=int(input(\"Enter number to check armstrong or not : \"))\n",
    "num_str=str(a)\n",
    "num_len=len(num_str)\n",
    "a_sum=0\n",
    "for i in num_str:\n",
    "    a_sum+=int(i)**num_len\n",
    "if a_sum==a:\n",
    "    print(a,\"number is armstrong number\")\n",
    "else:\n",
    "    print(a,\"number is not a armstrong number\")"
   ]
  },
  {
   "cell_type": "code",
   "execution_count": 14,
   "id": "fc905f9f-f962-4016-b43f-c77563c377bd",
   "metadata": {},
   "outputs": [
    {
     "name": "stdin",
     "output_type": "stream",
     "text": [
      "Enter number to check armstrong or not :  10000\n"
     ]
    },
    {
     "name": "stdout",
     "output_type": "stream",
     "text": [
      "1 number is armstrong number\n",
      "2 number is armstrong number\n",
      "3 number is armstrong number\n",
      "4 number is armstrong number\n",
      "5 number is armstrong number\n",
      "6 number is armstrong number\n",
      "7 number is armstrong number\n",
      "8 number is armstrong number\n",
      "9 number is armstrong number\n",
      "153 number is armstrong number\n",
      "370 number is armstrong number\n",
      "371 number is armstrong number\n",
      "407 number is armstrong number\n",
      "1634 number is armstrong number\n",
      "8208 number is armstrong number\n",
      "9474 number is armstrong number\n"
     ]
    }
   ],
   "source": [
    "####14.Python Program to Find Armstrong Number in an Interval.####\n",
    "a1=int(input(\"Enter number to check armstrong or not : \"))\n",
    "for a in range(1,a1+1):\n",
    "    num_str=str(a)\n",
    "    num_len=len(num_str)\n",
    "    a_sum=0\n",
    "    for i in num_str:\n",
    "        a_sum+=int(i)**num_len\n",
    "    if a_sum==a:\n",
    "        print(a,\"number is armstrong number\")\n",
    "#     else:\n",
    "#         print(a,\"number is not a armstrong number\")"
   ]
  },
  {
   "cell_type": "code",
   "execution_count": 15,
   "id": "7b9a3a3a-158c-459f-ae6b-6122bc38d6cc",
   "metadata": {},
   "outputs": [
    {
     "name": "stdin",
     "output_type": "stream",
     "text": [
      "Enter till you want the sum of natural numbers 100\n"
     ]
    },
    {
     "name": "stdout",
     "output_type": "stream",
     "text": [
      "5050\n"
     ]
    }
   ],
   "source": [
    "#15.Python Program to Find the Sum of Natural Numbers.\n",
    "a=int(input(\"Enter till you want the sum of natural numbers\"))\n",
    "sum=0\n",
    "for i in range(a+1):\n",
    "    sum+=i\n",
    "print(sum)"
   ]
  },
  {
   "cell_type": "code",
   "execution_count": 16,
   "id": "9cbb1eac-ab64-4215-9b61-c61da5b39c90",
   "metadata": {},
   "outputs": [
    {
     "name": "stdin",
     "output_type": "stream",
     "text": [
      "ENTER NO TO DIVIDE :  9\n",
      "ENTER NO TO DIVIDE BY :  3\n"
     ]
    },
    {
     "name": "stdout",
     "output_type": "stream",
     "text": [
      "9 is divisible by 3\n"
     ]
    }
   ],
   "source": [
    "#16.Python Program to Find Numbers Divisible by Another Number.\n",
    "a=int(input(\"ENTER NO TO DIVIDE : \"))\n",
    "b=int(input(\"ENTER NO TO DIVIDE BY : \"))\n",
    "if a%b==0:\n",
    "    print(a,\"is divisible by\",b)\n",
    "    \n",
    "\n",
    "# for i in range(1,100+1):\n",
    "#     for j in range(1,100+1):\n",
    "#         if i%j==0:\n",
    "#             print(i,\"is Divisible by\",j)"
   ]
  },
  {
   "cell_type": "code",
   "execution_count": 65,
   "id": "54f495d3",
   "metadata": {},
   "outputs": [
    {
     "name": "stdin",
     "output_type": "stream",
     "text": [
      "enter no :  15\n",
      "enter no :  30\n"
     ]
    },
    {
     "name": "stdout",
     "output_type": "stream",
     "text": [
      "15\n"
     ]
    }
   ],
   "source": [
    "#17.Python Program to Find HCF or GCD.\n",
    "a=int(input(\"enter no : \"))\n",
    "b=int(input(\"enter no : \"))\n",
    "hcf=1\n",
    "s=min(a,b)\n",
    "for i in range(2,s+1):\n",
    "    if a%i==0 and b%i==0:\n",
    "        hcf=i\n",
    "print(hcf)"
   ]
  },
  {
   "cell_type": "code",
   "execution_count": 18,
   "id": "ee8c99aa",
   "metadata": {},
   "outputs": [
    {
     "name": "stdin",
     "output_type": "stream",
     "text": [
      "enter no :  9\n",
      "enter no :  8\n"
     ]
    },
    {
     "name": "stdout",
     "output_type": "stream",
     "text": [
      "72\n"
     ]
    }
   ],
   "source": [
    "#18.Python Program to Find LCM.\n",
    "a=int(input(\"enter no : \"))\n",
    "b=int(input(\"enter no : \"))\n",
    "lcm=max(a,b)\n",
    "for i in range(lcm,a*b+1,lcm):\n",
    "    if i%a==0 and i%b==0:\n",
    "        lcm=i\n",
    "        break\n",
    "print(lcm)"
   ]
  },
  {
   "cell_type": "code",
   "execution_count": 19,
   "id": "2dc0cc86",
   "metadata": {},
   "outputs": [
    {
     "name": "stdin",
     "output_type": "stream",
     "text": [
      "ENTER STRING TO CHECK PALINDROME :  POP\n"
     ]
    },
    {
     "name": "stdout",
     "output_type": "stream",
     "text": [
      "POP palindrome\n"
     ]
    }
   ],
   "source": [
    "#19.Python Program to Check Whether a String is Palindrome or Not.\n",
    "a=input(\"ENTER STRING TO CHECK PALINDROME : \")\n",
    "b=list(a)\n",
    "if b==b[::-1]:\n",
    "    print(a,\"palindrome\")\n",
    "else:\n",
    "    print(a,\"is not palindrome\")"
   ]
  },
  {
   "cell_type": "code",
   "execution_count": 20,
   "id": "c97a5cb9",
   "metadata": {},
   "outputs": [
    {
     "name": "stdout",
     "output_type": "stream",
     "text": [
      "python  is not  only sanke\n"
     ]
    }
   ],
   "source": [
    "#20.Python Program to Remove Punctuations From a String.\n",
    "a=\"python , is not , only! sanke\"\n",
    "punc=\"\"\"!;:,.@#$%^&*(){}[]\"'\"\"\"\n",
    "b=\"\"\n",
    "for i in a:\n",
    "    if i not in punc:\n",
    "        b+=i\n",
    "print(b)"
   ]
  },
  {
   "cell_type": "code",
   "execution_count": 21,
   "id": "3327a827",
   "metadata": {},
   "outputs": [
    {
     "name": "stdout",
     "output_type": "stream",
     "text": [
      "        ,,--;Paaaabcddeeeeeeeeeggggghhhiiiiijlllmmnnnnnnoooopprrrrrstttttuvy\n"
     ]
    }
   ],
   "source": [
    "#21.Python Program to Sort Words in Alphabetic Order.\n",
    "a=\"Python is an interpreted , object-oriented, high-level; programming language\"\n",
    "b=\"\".join(sorted(a))\n",
    "print(b)"
   ]
  },
  {
   "cell_type": "code",
   "execution_count": 22,
   "id": "5ef03965",
   "metadata": {},
   "outputs": [
    {
     "name": "stdout",
     "output_type": "stream",
     "text": [
      "False\n",
      "{1, 2, 3, 4, 5, 6, 7, 8, 9}\n",
      "{1, 2, 3, 4, 5, 6, 7, 8, 9, 10}\n",
      "True\n",
      "{5, 6, 7, 8, 9}\n",
      "{1, 2, 3, 4, 5, 6, 7, 8, 9, 10}\n",
      "{2, 3, 4, 5, 6, 7, 8, 9, 10}\n",
      "{2, 3, 4, 6, 7, 8, 9, 10}\n",
      "set()\n"
     ]
    }
   ],
   "source": [
    "# 22.Python Program to Illustrate Different Set Operations\n",
    "# (update,add,issubset,isdisjoin,intersection,union etc)\n",
    "a={1,2,3,4,5}\n",
    "b={5,6,7,8,9}\n",
    "c=a.isdisjoint(b)\n",
    "print(c)\n",
    "a.update(b)\n",
    "print(a)\n",
    "a.add(10)\n",
    "print(a)\n",
    "print(b.issubset(a))\n",
    "print(a.intersection(b))\n",
    "print(a.union(b))\n",
    "a.remove(1)\n",
    "print(a)\n",
    "a.discard(5)\n",
    "print(a)\n",
    "a.clear()\n",
    "print(a)\n"
   ]
  },
  {
   "cell_type": "code",
   "execution_count": 23,
   "id": "983565ed",
   "metadata": {},
   "outputs": [
    {
     "name": "stdout",
     "output_type": "stream",
     "text": [
      "a 4\n",
      "e 9\n",
      "i 5\n",
      "o 4\n",
      "u 1\n",
      "A 0\n",
      "E 0\n",
      "I 0\n",
      "O 0\n",
      "U 0\n"
     ]
    }
   ],
   "source": [
    "#23.Python Program to Count the Number of Each Vowel.\n",
    "a=\"Python is an interpreted , object-oriented, high-level; programming language\"\n",
    "b=\"aeiouAEIOU\"\n",
    "for i in b:\n",
    "    print(i,a.count(i))"
   ]
  },
  {
   "cell_type": "code",
   "execution_count": 24,
   "id": "32f06275",
   "metadata": {},
   "outputs": [
    {
     "name": "stdout",
     "output_type": "stream",
     "text": [
      "[9, 2, 3, 4, 5, 6, 7, 8, 1]\n"
     ]
    }
   ],
   "source": [
    "#24.Python program to interchange first and last elements in a list.\n",
    "a=[1,2,3,4,5,6,7,8,9]\n",
    "a[0],a[-1]=a[-1],a[0]\n",
    "print(a)"
   ]
  },
  {
   "cell_type": "code",
   "execution_count": 25,
   "id": "27d5fed4",
   "metadata": {},
   "outputs": [
    {
     "name": "stdout",
     "output_type": "stream",
     "text": [
      "1\n"
     ]
    }
   ],
   "source": [
    "#25.Python program to find smallest number in a list.\n",
    "a=[1,2,3,4,5,6,7,8,9]\n",
    "print(min(a))"
   ]
  },
  {
   "cell_type": "code",
   "execution_count": 26,
   "id": "b48ef438",
   "metadata": {},
   "outputs": [
    {
     "name": "stdout",
     "output_type": "stream",
     "text": [
      "9\n"
     ]
    }
   ],
   "source": [
    "#26.Python program to find largest number in a list.\n",
    "a=[1,2,3,4,5,6,7,8,9]\n",
    "print(max(a))"
   ]
  },
  {
   "cell_type": "code",
   "execution_count": 27,
   "id": "40c99d23",
   "metadata": {},
   "outputs": [
    {
     "name": "stdin",
     "output_type": "stream",
     "text": [
      "ENTER THE RANGE YOU WANT :  9\n"
     ]
    },
    {
     "name": "stdout",
     "output_type": "stream",
     "text": [
      "1\n",
      "2\n",
      "3\n",
      "4\n",
      "5\n",
      "6\n",
      "7\n",
      "8\n",
      "9\n"
     ]
    }
   ],
   "source": [
    "#27.Python program to print all positive numbers in a range.\n",
    "# a=[-9,-8,-7,-6,-5,-4,-3,-2,-1,0,1,2,3,4,5,6,7,8,9]\n",
    "# for i in a:\n",
    "#     if i>0:\n",
    "#         print(i)\n",
    "a=int(input(\"ENTER THE RANGE YOU WANT : \"))\n",
    "for i in range(1,a+1):\n",
    "    print(i)"
   ]
  },
  {
   "cell_type": "code",
   "execution_count": 67,
   "id": "1e08a25d",
   "metadata": {},
   "outputs": [
    {
     "name": "stdin",
     "output_type": "stream",
     "text": [
      "ENTER THE negative numbers RANGE YOU WANT :  -10\n"
     ]
    },
    {
     "name": "stdout",
     "output_type": "stream",
     "text": [
      "-10\n",
      "-9\n",
      "-8\n",
      "-7\n",
      "-6\n",
      "-5\n",
      "-4\n",
      "-3\n",
      "-2\n",
      "-1\n",
      "0\n"
     ]
    }
   ],
   "source": [
    "#29.Python program to print all negative numbers in a range.\n",
    "a=int(input(\"ENTER THE negative numbers RANGE YOU WANT : \"))\n",
    "for i in range(a,1):\n",
    "    print(i)"
   ]
  },
  {
   "cell_type": "code",
   "execution_count": 29,
   "id": "25433af3",
   "metadata": {},
   "outputs": [
    {
     "name": "stdout",
     "output_type": "stream",
     "text": [
      "8\n",
      "9\n",
      "4\n",
      "5\n"
     ]
    }
   ],
   "source": [
    "# 30.Program to print duplicates from a list of integers.\n",
    "# (take any duplicate element in list)\n",
    "a=[0,1,2,3,4,5,6,7,8,9,8,9,4,5]\n",
    "b=[]\n",
    "for i in a:\n",
    "    if i not in b:\n",
    "        b.append(i)\n",
    "    else:\n",
    "        print(i)"
   ]
  },
  {
   "cell_type": "code",
   "execution_count": 30,
   "id": "b61f557a",
   "metadata": {},
   "outputs": [
    {
     "name": "stdout",
     "output_type": "stream",
     "text": [
      "[11, 5, 17, 18, 23, 50]\n",
      "[11, 50]\n",
      "[]\n"
     ]
    }
   ],
   "source": [
    "#31.Remove multiple elements from a list in Python.(11,5,17,18,23,50)\n",
    "a=[11,5,17,18,23,50]\n",
    "print(a)\n",
    "del a[1:5]\n",
    "print(a)\n",
    "a.clear()\n",
    "print(a)"
   ]
  },
  {
   "cell_type": "code",
   "execution_count": 31,
   "id": "59daf488",
   "metadata": {},
   "outputs": [
    {
     "name": "stdout",
     "output_type": "stream",
     "text": [
      "[1, 4, 9, 16, 25, 36, 49]\n"
     ]
    }
   ],
   "source": [
    "#32.Given a Python list of numbers. Turn every item of a list into its square Given:\n",
    "List = [1, 2, 3, 4, 5, 6, 7]\n",
    "l1=[]\n",
    "for i in List:\n",
    "    i*=i\n",
    "    l1.append(i)\n",
    "print(l1)"
   ]
  },
  {
   "cell_type": "code",
   "execution_count": 32,
   "id": "4e9c25ce",
   "metadata": {},
   "outputs": [
    {
     "name": "stdout",
     "output_type": "stream",
     "text": [
      "[10, 20, 30, 40] [400, 300, 200, 100]\n"
     ]
    }
   ],
   "source": [
    "# 33.Given a two Python list. Iterate both lists simultaneously such that\n",
    "# list1 should display item in original order and list2 in reverse order.\n",
    "list1=[10,20,30,40]\n",
    "list2=[100,200,300,400]\n",
    "\n",
    "print(list1,list2[::-1])"
   ]
  }
 ],
 "metadata": {
  "kernelspec": {
   "display_name": "Python 3 (ipykernel)",
   "language": "python",
   "name": "python3"
  },
  "language_info": {
   "codemirror_mode": {
    "name": "ipython",
    "version": 3
   },
   "file_extension": ".py",
   "mimetype": "text/x-python",
   "name": "python",
   "nbconvert_exporter": "python",
   "pygments_lexer": "ipython3",
   "version": "3.12.4"
  }
 },
 "nbformat": 4,
 "nbformat_minor": 5
}
